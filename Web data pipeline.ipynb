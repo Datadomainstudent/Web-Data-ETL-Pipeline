{
  "nbformat": 4,
  "nbformat_minor": 0,
  "metadata": {
    "colab": {
      "provenance": []
    },
    "kernelspec": {
      "name": "python3",
      "display_name": "Python 3"
    },
    "language_info": {
      "name": "python"
    }
  },
  "cells": [
    {
      "cell_type": "code",
      "source": [
        "import pandas as pd\n",
        "import numpy as np\n",
        "from sklearn.preprocessing import StandardScaler\n",
        "from sklearn.impute import SimpleImputer\n",
        "\n",
        "def data_preprocessing_pipeline(data):\n",
        "    # Identify numeric and categorical features\n",
        "    numeric_features = data.select_dtypes(include=['float', 'int']).columns\n",
        "    categorical_features = data.select_dtypes(include=['object']).columns\n",
        "\n",
        "    # Handle missing values in numeric features\n",
        "    imputer = SimpleImputer(strategy='mean')\n",
        "    data[numeric_features] = imputer.fit_transform(data[numeric_features])\n",
        "\n",
        "    # Detect and handle outliers in numeric features using IQR\n",
        "    for feature in numeric_features:\n",
        "        Q1 = data[feature].quantile(0.25)\n",
        "        Q3 = data[feature].quantile(0.75)\n",
        "        IQR = Q3 - Q1\n",
        "        lower_bound = Q1 - (1.5 * IQR)\n",
        "        upper_bound = Q3 + (1.5 * IQR)\n",
        "        data[feature] = np.where((data[feature] < lower_bound) | (data[feature] > upper_bound),\n",
        "                                 data[feature].mean(), data[feature])\n",
        "\n",
        "    # Normalize numeric features\n",
        "    scaler = StandardScaler()\n",
        "    data[numeric_features] = scaler.fit_transform(data[numeric_features])\n",
        "\n",
        "    # Handle missing values in categorical features\n",
        "    imputer = SimpleImputer(strategy='most_frequent')\n",
        "    data[categorical_features] = imputer.fit_transform(data[categorical_features])\n",
        "\n",
        "    return data\n",
        "\n"
      ],
      "metadata": {
        "colab": {
          "base_uri": "https://localhost:8080/"
        },
        "id": "iTfJcrO-ehMf",
        "outputId": "d3713a0d-c1e4-4594-8e14-fe3f05363804"
      },
      "execution_count": 5,
      "outputs": [
        {
          "output_type": "stream",
          "name": "stdout",
          "text": [
            "Original Data:\n",
            "   NumericFeature1  NumericFeature2 CategoricalFeature\n",
            "0              1.0                7                  A\n",
            "1              2.0                8                  B\n",
            "2              NaN                9                NaN\n",
            "3              4.0               10                  A\n",
            "4              5.0               11                  B\n",
            "5              6.0               50                  C\n",
            "\n",
            "Preprocessed Data:\n",
            "   NumericFeature1  NumericFeature2 CategoricalFeature\n",
            "0        -1.535624        -1.099370                  A\n",
            "1        -0.944999        -0.749128                  B\n",
            "2         0.000000        -0.398886                  A\n",
            "3         0.236250        -0.048645                  A\n",
            "4         0.826874         0.301597                  B\n",
            "5         1.417499         1.994431                  C\n"
          ]
        }
      ]
    },
    {
      "cell_type": "code",
      "source": [
        "data = pd.read_csv(\"data.csv\")\n",
        "\n",
        "print(\"Original Data:\")\n",
        "print(data)"
      ],
      "metadata": {
        "colab": {
          "base_uri": "https://localhost:8080/"
        },
        "id": "DgYcWUjtiKJK",
        "outputId": "1f5a07ea-a097-463a-c6a8-211372857c9f"
      },
      "execution_count": 6,
      "outputs": [
        {
          "output_type": "stream",
          "name": "stdout",
          "text": [
            "Original Data:\n",
            "   NumericFeature1  NumericFeature2 CategoricalFeature\n",
            "0              1.0                7                  A\n",
            "1              2.0                8                  B\n",
            "2              NaN                9                NaN\n",
            "3              4.0               10                  A\n",
            "4              5.0               11                  B\n",
            "5              6.0               50                  C\n"
          ]
        }
      ]
    },
    {
      "cell_type": "code",
      "source": [
        "# Perform data preprocessing\n",
        "cleaned_data = data_preprocessing_pipeline(data)\n",
        "\n",
        "print(\"\\nPreprocessed Data:\")\n",
        "print(cleaned_data)"
      ],
      "metadata": {
        "colab": {
          "base_uri": "https://localhost:8080/"
        },
        "id": "cUwE-TbniJ9D",
        "outputId": "94bd2702-da6c-4afa-af52-cb52eb995f95"
      },
      "execution_count": 7,
      "outputs": [
        {
          "output_type": "stream",
          "name": "stdout",
          "text": [
            "\n",
            "Preprocessed Data:\n",
            "   NumericFeature1  NumericFeature2 CategoricalFeature\n",
            "0        -1.535624        -1.099370                  A\n",
            "1        -0.944999        -0.749128                  B\n",
            "2         0.000000        -0.398886                  A\n",
            "3         0.236250        -0.048645                  A\n",
            "4         0.826874         0.301597                  B\n",
            "5         1.417499         1.994431                  C\n"
          ]
        }
      ]
    }
  ]
}